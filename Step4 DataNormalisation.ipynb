{
 "cells": [
  {
   "cell_type": "code",
   "execution_count": null,
   "metadata": {},
   "outputs": [],
   "source": [
    "normalisation: Transforming data from -1 to 1\n",
    "   3 methords:\n",
    "            simple feature scaling : x_new = x/x.max()\n",
    "                            #one go: data_set = data_set/ data_set.max()\n",
    "            \n",
    "            min-max scaling:\n",
    "                x_new = ( x-x.min() ) / ( x.max()-x.min() )\n",
    "            z-scaling"
   ]
  },
  {
   "cell_type": "code",
   "execution_count": null,
   "metadata": {},
   "outputs": [],
   "source": []
  },
  {
   "cell_type": "code",
   "execution_count": null,
   "metadata": {},
   "outputs": [],
   "source": [
    "min-max scaling:\n",
    "                x_new = ( x-x.min() ) / ( x.max()-x.min() )\n",
    "\n",
    "from sklearn.processing import MinMaxScaler\n",
    "scaler = MinMaxScaler()\n",
    "#One Go\n",
    "data[data.colmns] = scaler.fit_transform(data[data.columns])"
   ]
  },
  {
   "cell_type": "code",
   "execution_count": null,
   "metadata": {},
   "outputs": [],
   "source": [
    "z-scaling\n",
    "\n",
    "from sklearn.processing import StandardScaler\n",
    "scaler = StandardScaler()\n",
    "#One Go\n",
    "data[data.colmns] = scaler.fit_transform(data[data.columns])"
   ]
  },
  {
   "cell_type": "code",
   "execution_count": null,
   "metadata": {},
   "outputs": [],
   "source": []
  },
  {
   "cell_type": "code",
   "execution_count": null,
   "metadata": {},
   "outputs": [],
   "source": [
    "###################IMP########################\n",
    "\n",
    "USED BZ: To avoid any feture to unduly effect/ influence the result\n",
    "\n",
    "were to use data normalisation:\n",
    "    In KNN,  Linear Regression..ML Algo....were  we use distance vector formula to get to results\n",
    "\n",
    "were 'NOT'to use data normalisation:\n",
    "    Naive, Decision tree were we do not use distance formula"
   ]
  }
 ],
 "metadata": {
  "kernelspec": {
   "display_name": "Python 3",
   "language": "python",
   "name": "python3"
  },
  "language_info": {
   "codemirror_mode": {
    "name": "ipython",
    "version": 3
   },
   "file_extension": ".py",
   "mimetype": "text/x-python",
   "name": "python",
   "nbconvert_exporter": "python",
   "pygments_lexer": "ipython3",
   "version": "3.7.4"
  }
 },
 "nbformat": 4,
 "nbformat_minor": 2
}
